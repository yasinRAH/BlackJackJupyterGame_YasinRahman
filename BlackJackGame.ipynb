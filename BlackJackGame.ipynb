{
 "cells": [
  {
   "cell_type": "markdown",
   "metadata": {},
   "source": [
    "# Milestone Project 2 - Blackjack Game\n",
    "In this milestone project you will be creating a Complete BlackJack Card Game in Python.\n",
    "\n",
    "Here are the requirements:\n",
    "\n",
    "* You need to create a simple text-based [BlackJack](https://en.wikipedia.org/wiki/Blackjack) game\n",
    "* The game needs to have one player versus an automated dealer.\n",
    "* The player can stand or hit.\n",
    "* The player must be able to pick their betting amount.\n",
    "* You need to keep track of the player's total money.\n",
    "* You need to alert the player of wins, losses, or busts, etc...\n",
    "\n",
    "And most importantly:\n",
    "\n",
    "* **You must use OOP and classes in some portion of your game. You can not just use functions in your game. Use classes to help you define the Deck and the Player's hand. There are many right ways to do this, so explore it well!**\n",
    "\n",
    "\n",
    "Feel free to expand this game. Try including multiple players. Try adding in Double-Down and card splits! Remember to you are free to use any resources you want and as always:\n",
    "\n",
    "# HAVE FUN!"
   ]
  },
  {
   "cell_type": "markdown",
   "metadata": {},
   "source": [
    "# Python Project Start:"
   ]
  },
  {
   "cell_type": "code",
   "execution_count": 1,
   "metadata": {},
   "outputs": [],
   "source": [
    "#classes: deck, card, player, dealer, bank"
   ]
  },
  {
   "cell_type": "code",
   "execution_count": 2,
   "metadata": {},
   "outputs": [
    {
     "data": {
      "text/plain": [
       "[Card(3, S),\n",
       " Card(6, C),\n",
       " Card(J, C),\n",
       " Card(A, C),\n",
       " Card(7, S),\n",
       " Card(3, D),\n",
       " Card(2, C),\n",
       " Card(4, C),\n",
       " Card(J, S),\n",
       " Card(5, H),\n",
       " Card(K, D),\n",
       " Card(8, H),\n",
       " Card(Q, H),\n",
       " Card(8, C),\n",
       " Card(Q, D),\n",
       " Card(5, D),\n",
       " Card(6, D),\n",
       " Card(9, H),\n",
       " Card(2, H),\n",
       " Card(J, D),\n",
       " Card(7, C),\n",
       " Card(7, H),\n",
       " Card(Q, C),\n",
       " Card(4, D),\n",
       " Card(A, S),\n",
       " Card(K, C),\n",
       " Card(10, H),\n",
       " Card(10, D),\n",
       " Card(2, S),\n",
       " Card(5, C),\n",
       " Card(2, D),\n",
       " Card(9, D),\n",
       " Card(K, S),\n",
       " Card(8, D),\n",
       " Card(8, S),\n",
       " Card(A, H),\n",
       " Card(3, H),\n",
       " Card(Q, S),\n",
       " Card(6, H),\n",
       " Card(3, C),\n",
       " Card(10, C),\n",
       " Card(9, S),\n",
       " Card(5, S),\n",
       " Card(9, C),\n",
       " Card(7, D),\n",
       " Card(4, S),\n",
       " Card(6, S),\n",
       " Card(A, D),\n",
       " Card(10, S),\n",
       " Card(J, H),\n",
       " Card(K, H),\n",
       " Card(4, H)]"
      ]
     },
     "execution_count": 2,
     "metadata": {},
     "output_type": "execute_result"
    }
   ],
   "source": [
    "import random\n",
    "\n",
    "suit = ['H', 'D', 'S', 'C']\n",
    "rank = ['A', *range(2, 11, 1), 'J', 'Q', 'K']\n",
    "\n",
    "\n",
    "class Card():\n",
    "    def __init__(self, rank, suit):\n",
    "        self.rank = rank\n",
    "        self.suit = suit\n",
    "        \n",
    "    def __repr__(self):\n",
    "        return f\"Card({self.rank}, {self.suit})\"\n",
    "    \n",
    "    def __str__(self):\n",
    "        return f\"{self.rank} of {self.suit}\"\n",
    "    \n",
    "class Deck():\n",
    "    def __init__(self):\n",
    "        self.cards = []\n",
    "        self.build()\n",
    "        self.shuffle()\n",
    "        \n",
    "    def build(self):\n",
    "        for i in range(len(suit)):\n",
    "            for j in range(len(rank)):\n",
    "                self.cards.append(Card(rank[j], suit[i]))\n",
    "    \n",
    "    def shuffle(self):\n",
    "        random.shuffle(self.cards)\n",
    "            \n",
    "    \n",
    "card1 = Card(6, 'Hearts')\n",
    "\n",
    "deck1 = Deck()\n",
    "\n",
    "deck1.cards"
   ]
  },
  {
   "cell_type": "code",
   "execution_count": 3,
   "metadata": {},
   "outputs": [
    {
     "data": {
      "text/plain": [
       "[Card(4, H)]"
      ]
     },
     "execution_count": 3,
     "metadata": {},
     "output_type": "execute_result"
    }
   ],
   "source": [
    "class Player():\n",
    "    def __init__(self):\n",
    "        self.cards = []\n",
    "    \n",
    "    def draw_card(self, deck):\n",
    "        drawn = deck.pop()\n",
    "        self.cards.append(drawn)\n",
    "        \n",
    "p1 = Player()\n",
    "p1.draw_card(deck1.cards)\n",
    "p1.cards"
   ]
  },
  {
   "cell_type": "code",
   "execution_count": 4,
   "metadata": {},
   "outputs": [],
   "source": [
    "class Bank():\n",
    "    def __init__(self, balance):\n",
    "        self.balance = balance\n",
    "        \n",
    "    def withdraw(self, amount):\n",
    "        self.balance -= amount\n",
    "    \n",
    "    def deposit(self, amount):\n",
    "        self.balance += amount"
   ]
  },
  {
   "cell_type": "code",
   "execution_count": 7,
   "metadata": {},
   "outputs": [
    {
     "name": "stdout",
     "output_type": "stream",
     "text": [
      "Would you like to play? (Y)es or (N)oy\n",
      "You have 1000 credits, how much would you like to bet?34\n",
      "You bet 34.0 from 1000\n",
      "New balance: 966.0\n",
      "Would you like to play? (Y)es or (N)on\n",
      "Ok, have a nice day.\n"
     ]
    }
   ],
   "source": [
    "#basic game logic\n",
    "\n",
    "def game_start():\n",
    "    player_bank = Bank(1000)\n",
    "    \n",
    "    def ask_to_start():\n",
    "        while True:\n",
    "            try:\n",
    "                ask = input(\"Would you like to play? (Y)es or (N)o\")\n",
    "            except:\n",
    "                print(\"Sorry, I didn't get that.\")\n",
    "            if ask.lower() == 'y' or ask.lower() == 'yes':\n",
    "                game_loop()\n",
    "            elif ask.lower() == 'n' or ask.lower() == 'no':\n",
    "                print(\"Ok, have a nice day.\")\n",
    "                break\n",
    "                \n",
    "    def game_loop():\n",
    "        while True:\n",
    "            try:\n",
    "                bet_amount = float(input(f'You have {player_bank.balance} credits, how much would you like to bet?'))\n",
    "            except ValueError:\n",
    "                print(f\"That isn't a valid number, please try again.\")\n",
    "            if bet_amount <= 0:\n",
    "                print(f\"you cannot bet {bet_amount}\")\n",
    "            elif bet_amount > player_bank.balance:\n",
    "                print(f\"you have chosen to bet {bet_amount}, but you only have {player_bank.balance}.\")\n",
    "            else:\n",
    "                print(f\"You bet {bet_amount} from {player_bank.balance}\")\n",
    "                player_bank.withdraw(bet_amount)\n",
    "                print(f\"New balance: {round(player_bank.balance, 2)}\")\n",
    "                break \n",
    "        return bet_amount\n",
    "    \n",
    "    \n",
    "    ask_to_start()\n",
    "  \n",
    "        \n",
    "            \n",
    "            \n",
    "    \n",
    "    \n",
    "    \n",
    "game_start()\n"
   ]
  },
  {
   "cell_type": "code",
   "execution_count": null,
   "metadata": {},
   "outputs": [],
   "source": []
  },
  {
   "cell_type": "code",
   "execution_count": null,
   "metadata": {},
   "outputs": [],
   "source": []
  }
 ],
 "metadata": {
  "kernelspec": {
   "display_name": "Python 3",
   "language": "python",
   "name": "python3"
  },
  "language_info": {
   "codemirror_mode": {
    "name": "ipython",
    "version": 3
   },
   "file_extension": ".py",
   "mimetype": "text/x-python",
   "name": "python",
   "nbconvert_exporter": "python",
   "pygments_lexer": "ipython3",
   "version": "3.8.5"
  }
 },
 "nbformat": 4,
 "nbformat_minor": 4
}
