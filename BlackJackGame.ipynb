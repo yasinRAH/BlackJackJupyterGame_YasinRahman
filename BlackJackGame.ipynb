{
 "cells": [
  {
   "cell_type": "markdown",
   "metadata": {},
   "source": [
    "# Milestone Project 2 - Blackjack Game\n",
    "In this milestone project you will be creating a Complete BlackJack Card Game in Python.\n",
    "\n",
    "Here are the requirements:\n",
    "\n",
    "* You need to create a simple text-based [BlackJack](https://en.wikipedia.org/wiki/Blackjack) game\n",
    "* The game needs to have one player versus an automated dealer.\n",
    "* The player can stand or hit.\n",
    "* The player must be able to pick their betting amount.\n",
    "* You need to keep track of the player's total money.\n",
    "* You need to alert the player of wins, losses, or busts, etc...\n",
    "\n",
    "And most importantly:\n",
    "\n",
    "* **You must use OOP and classes in some portion of your game. You can not just use functions in your game. Use classes to help you define the Deck and the Player's hand. There are many right ways to do this, so explore it well!**\n",
    "\n",
    "\n",
    "Feel free to expand this game. Try including multiple players. Try adding in Double-Down and card splits! Remember to you are free to use any resources you want and as always:\n",
    "\n",
    "# HAVE FUN!"
   ]
  },
  {
   "cell_type": "markdown",
   "metadata": {},
   "source": [
    "# Python Project Start:"
   ]
  },
  {
   "cell_type": "code",
   "execution_count": 2,
   "metadata": {},
   "outputs": [],
   "source": [
    "#classes: deck, card, player, dealer, bank"
   ]
  },
  {
   "cell_type": "code",
   "execution_count": 43,
   "metadata": {},
   "outputs": [
    {
     "data": {
      "text/plain": [
       "[Card(K, H),\n",
       " Card(J, C),\n",
       " Card(3, C),\n",
       " Card(9, H),\n",
       " Card(8, S),\n",
       " Card(K, S),\n",
       " Card(A, S),\n",
       " Card(J, D),\n",
       " Card(9, C),\n",
       " Card(2, D),\n",
       " Card(A, H),\n",
       " Card(2, S),\n",
       " Card(5, D),\n",
       " Card(3, D),\n",
       " Card(8, D),\n",
       " Card(5, H),\n",
       " Card(7, S),\n",
       " Card(6, D),\n",
       " Card(A, C),\n",
       " Card(4, H),\n",
       " Card(5, C),\n",
       " Card(2, H),\n",
       " Card(10, H),\n",
       " Card(7, C),\n",
       " Card(7, H),\n",
       " Card(J, H),\n",
       " Card(10, D),\n",
       " Card(6, H),\n",
       " Card(J, S),\n",
       " Card(4, S),\n",
       " Card(10, C),\n",
       " Card(9, S),\n",
       " Card(A, D),\n",
       " Card(3, H),\n",
       " Card(2, C),\n",
       " Card(4, C),\n",
       " Card(3, S),\n",
       " Card(Q, C),\n",
       " Card(Q, S),\n",
       " Card(K, C),\n",
       " Card(Q, H),\n",
       " Card(10, S),\n",
       " Card(4, D),\n",
       " Card(8, C),\n",
       " Card(8, H),\n",
       " Card(Q, D),\n",
       " Card(6, S),\n",
       " Card(5, S),\n",
       " Card(K, D),\n",
       " Card(7, D),\n",
       " Card(6, C),\n",
       " Card(9, D)]"
      ]
     },
     "execution_count": 43,
     "metadata": {},
     "output_type": "execute_result"
    }
   ],
   "source": [
    "import random\n",
    "\n",
    "suit = ['H', 'D', 'S', 'C']\n",
    "rank = ['A', *range(2, 11, 1), 'J', 'Q', 'K']\n",
    "\n",
    "\n",
    "class Card():\n",
    "    def __init__(self, rank, suit):\n",
    "        self.rank = rank\n",
    "        self.suit = suit\n",
    "        \n",
    "    def __repr__(self):\n",
    "        return f\"Card({self.rank}, {self.suit})\"\n",
    "    \n",
    "    def __str__(self):\n",
    "        return f\"{self.rank} of {self.suit}\"\n",
    "    \n",
    "class Deck():\n",
    "    def __init__(self):\n",
    "        self.cards = []\n",
    "        self.build()\n",
    "        self.shuffle()\n",
    "        \n",
    "    def build(self):\n",
    "        for i in range(len(suit)):\n",
    "            for j in range(len(rank)):\n",
    "                self.cards.append(Card(rank[j], suit[i]))\n",
    "    \n",
    "    def shuffle(self):\n",
    "        random.shuffle(self.cards)\n",
    "            \n",
    "    \n",
    "card1 = Card(6, 'Hearts')\n",
    "\n",
    "deck1 = Deck()\n",
    "\n",
    "deck1.cards"
   ]
  },
  {
   "cell_type": "code",
   "execution_count": 55,
   "metadata": {},
   "outputs": [
    {
     "data": {
      "text/plain": [
       "[Card(7, D)]"
      ]
     },
     "execution_count": 55,
     "metadata": {},
     "output_type": "execute_result"
    }
   ],
   "source": [
    "class Player():\n",
    "    def __init__(self):\n",
    "        self.cards = []\n",
    "    \n",
    "    def draw_card(self, deck):\n",
    "        drawn = deck.pop()\n",
    "        self.cards.append(drawn)\n",
    "        \n",
    "p1 = Player()\n",
    "p1.draw_card(deck1.cards)\n",
    "p1.cards"
   ]
  },
  {
   "cell_type": "code",
   "execution_count": null,
   "metadata": {},
   "outputs": [],
   "source": []
  }
 ],
 "metadata": {
  "kernelspec": {
   "display_name": "Python 3",
   "language": "python",
   "name": "python3"
  },
  "language_info": {
   "codemirror_mode": {
    "name": "ipython",
    "version": 3
   },
   "file_extension": ".py",
   "mimetype": "text/x-python",
   "name": "python",
   "nbconvert_exporter": "python",
   "pygments_lexer": "ipython3",
   "version": "3.8.5"
  }
 },
 "nbformat": 4,
 "nbformat_minor": 4
}
